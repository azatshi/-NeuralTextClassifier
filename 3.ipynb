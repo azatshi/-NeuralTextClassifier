{
 "cells": [
  {
   "cell_type": "code",
   "execution_count": 13,
   "metadata": {},
   "outputs": [],
   "source": [
    "#Загрузка даных:\n",
    "from sklearn.datasets import fetch_20newsgroups\n",
    "categories = [\"comp.graphics\",\"sci.space\",\"rec.sport.baseball\"]\n",
    "df = fetch_20newsgroups(subset='train', categories=categories)\n",
    "df1 = fetch_20newsgroups(subset='test', categories=categories)"
   ]
  },
  {
   "cell_type": "code",
   "execution_count": 14,
   "metadata": {},
   "outputs": [],
   "source": [
    "#Функция чистки текста:\n",
    "import pymorphy2\n",
    "import re\n",
    "\n",
    "def clean_text(text):\n",
    "    morph = pymorphy2.MorphAnalyzer()\n",
    "    text = text.replace(\"\\\\\", \" \").replace(u\"╚\", \" \").replace(u\"╩\", \" \")\n",
    "    text = text.lower()\n",
    "    text = re.sub('\\-\\s\\r\\n\\s{1,}|\\-\\s\\r\\n|\\r\\n', '', text) #удаление новых сстрок\n",
    "    text = re.sub('[.,:;_%©?*,!@#$%^&()\\d]|[+=]|[[]|[]]|[/]|\"|\\s{2,}|-', ' ', text) #удаление символов  \n",
    "    text = ' '.join(word for word in text.split() if len(word)>3)\n",
    "    text = \" \".join(morph.parse(word)[0].normal_form for word in text.split())\n",
    "    \n",
    "    return text"
   ]
  },
  {
   "cell_type": "code",
   "execution_count": 15,
   "metadata": {},
   "outputs": [
    {
     "name": "stdout",
     "output_type": "stream",
     "text": [
      "Максимальное количество слов в самом длинном описании заявки: 500 слов\n"
     ]
    }
   ],
   "source": [
    "#Чистка текста и нахождение макс длины текста(или обрезание):\n",
    "k=0\n",
    "m=0\n",
    "# Максимальное количество слов в самом длинном описании заявки\n",
    "max_words = 0\n",
    "for text in df.data:\n",
    "    text=clean_text(text)\n",
    "    df.data[k]=text\n",
    "    words = len(text.split())\n",
    "    if words > 500:\n",
    "        df.data[k]=text[:500]\n",
    "        words=500\n",
    "    if words > max_words:\n",
    "        max_words = words\n",
    "    k+=1\n",
    "\n",
    "print('Максимальное количество слов в самом длинном описании заявки: {} слов'.format(max_words))"
   ]
  },
  {
   "cell_type": "code",
   "execution_count": 16,
   "metadata": {},
   "outputs": [
    {
     "name": "stdout",
     "output_type": "stream",
     "text": [
      "Всего слов в словаре:  20702\n",
      "Распределение по рубликам:  [  0. 584. 597. 593.]\n"
     ]
    }
   ],
   "source": [
    "#Составление словаря\n",
    "#import pandas as pd\n",
    "import numpy as np\n",
    "import tensorflow as tf\n",
    "from collections import Counter\n",
    "vocab = Counter()\n",
    "for text in df.data:\n",
    "    for word in text.split(' '):\n",
    "        vocab[word.lower()]=1\n",
    "        \n",
    "total_words = len(vocab)\n",
    "print('Всего слов в словаре: ', total_words)\n",
    "\n",
    "#Функция, которая возвращает индекс слова в словаре\n",
    "def get_word_2_index(vocab):\n",
    "    word2index = {}\n",
    "    for i,word in enumerate(vocab):\n",
    "        word2index[word.lower()] = i\n",
    "        \n",
    "    return word2index\n",
    "\n",
    "word2index = get_word_2_index(vocab)\n",
    "\n",
    "#Составление числовых векторов\n",
    "batches = []\n",
    "results = []\n",
    "texts = df.data\n",
    "\n",
    "for text in texts:\n",
    "   k=0\n",
    "   layer = np.zeros(max_words,dtype=float)\n",
    "   for word in text.split(' '):\n",
    "        if (vocab[word.lower()])!=0:\n",
    "          layer[k] = word2index[word.lower()]\n",
    "          k+=1\n",
    "            \n",
    "   batches.append(layer)\n",
    "X_train=np.array(batches)\n",
    "\n",
    "#print(X_train[0],X_train.shape)\n",
    "\n",
    "y=0\n",
    "#Добавление 4 категории unknow \n",
    "num_classes=4\n",
    "target=np.zeros(num_classes)\n",
    "y_train=np.zeros((len(df.target),num_classes))\n",
    "for у in range(len(df.target)):\n",
    "    #print(y,'= ',df.target[y])\n",
    "    \n",
    "    y_train[y,df.target[y]+1]=1\n",
    "    target[df.target[y]+1]+=1\n",
    "    #print(y,'= ',y_train[y])\n",
    "    y+=1    \n",
    "\n",
    "print('Распределение по рубликам: ',target)\n",
    "\n",
    "#print(y_train[0],y_train.shape)"
   ]
  },
  {
   "cell_type": "code",
   "execution_count": 39,
   "metadata": {},
   "outputs": [
    {
     "name": "stdout",
     "output_type": "stream",
     "text": [
      "500\n",
      "Распределение по рубликам:  [0. 3. 4. 3.]\n"
     ]
    }
   ],
   "source": [
    "#Подготова текстов, которые не участвовали в составлении словаря\n",
    "texts = df1.data[0:10]\n",
    "batches = []\n",
    "results = []\n",
    "for text in texts:\n",
    "   k=0\n",
    "   text=clean_text(text)\n",
    "   words = len(text.split())\n",
    "   if words > 500:\n",
    "        text=text[:500]\n",
    "        words=500\n",
    "   layer = np.zeros(max_words,dtype=float)\n",
    "   for word in text.split(' '):\n",
    "        if (vocab[word.lower()])!=0:\n",
    "          layer[k] = word2index[word.lower()]\n",
    "          k+=1\n",
    "            \n",
    "   batches.append(layer)\n",
    "X_t=np.array(batches)\n",
    "\n",
    "print(len(X_t[1]))\n",
    "\n",
    "y=0\n",
    "num_classes=4\n",
    "targ=np.zeros(num_classes)\n",
    "y_t=np.zeros((len(df1.target[0:10]),num_classes))\n",
    "for у in range(len(df1.target[0:10])):\n",
    "    #print(y,'= ',df.target[y])\n",
    "    \n",
    "    y_t[y,df1.target[y]+1]=1\n",
    "    targ[df1.target[y]+1]+=1\n",
    "    #print(y,'= ',y_train[y])\n",
    "    y+=1    \n",
    "\n",
    "print('Распределение по рубликам: ',targ)\n"
   ]
  },
  {
   "cell_type": "code",
   "execution_count": 20,
   "metadata": {},
   "outputs": [
    {
     "name": "stdout",
     "output_type": "stream",
     "text": [
      "Размерность обучающей выборки:  (1474, 500)\n",
      "Размерность тестовой выборки:  (300, 500)\n"
     ]
    }
   ],
   "source": [
    "#Разбиение на обучающую и тестовую выборку\n",
    "n=300\n",
    "l=len(df.target)\n",
    "X_test=X_train[l-n:l+1] \n",
    "y_test=y_train[l-n:l+1]\n",
    "y_train=y_train[0:l-n]\n",
    "X_train=X_train[0:l-n]\n",
    "print('Размерность обучающей выборки: ',X_train.shape)\n",
    "print('Размерность тестовой выборки: ',X_test.shape)"
   ]
  },
  {
   "cell_type": "code",
   "execution_count": 61,
   "metadata": {},
   "outputs": [
    {
     "name": "stdout",
     "output_type": "stream",
     "text": [
      "Собираем модель...\n",
      "_________________________________________________________________\n",
      "Layer (type)                 Output Shape              Param #   \n",
      "=================================================================\n",
      "embedding_10 (Embedding)     (None, 500, 32)           662464    \n",
      "_________________________________________________________________\n",
      "conv1d_52 (Conv1D)           (None, 500, 32)           3104      \n",
      "_________________________________________________________________\n",
      "max_pooling1d_50 (MaxPooling (None, 250, 32)           0         \n",
      "_________________________________________________________________\n",
      "conv1d_53 (Conv1D)           (None, 250, 32)           4128      \n",
      "_________________________________________________________________\n",
      "max_pooling1d_51 (MaxPooling (None, 125, 32)           0         \n",
      "_________________________________________________________________\n",
      "conv1d_54 (Conv1D)           (None, 125, 32)           5152      \n",
      "_________________________________________________________________\n",
      "max_pooling1d_52 (MaxPooling (None, 62, 32)            0         \n",
      "_________________________________________________________________\n",
      "conv1d_55 (Conv1D)           (None, 62, 32)            7200      \n",
      "_________________________________________________________________\n",
      "max_pooling1d_53 (MaxPooling (None, 31, 32)            0         \n",
      "_________________________________________________________________\n",
      "conv1d_56 (Conv1D)           (None, 31, 32)            9248      \n",
      "_________________________________________________________________\n",
      "max_pooling1d_54 (MaxPooling (None, 15, 32)            0         \n",
      "_________________________________________________________________\n",
      "conv1d_57 (Conv1D)           (None, 15, 32)            12320     \n",
      "_________________________________________________________________\n",
      "max_pooling1d_55 (MaxPooling (None, 7, 32)             0         \n",
      "_________________________________________________________________\n",
      "conv1d_58 (Conv1D)           (None, 7, 32)             15392     \n",
      "_________________________________________________________________\n",
      "max_pooling1d_56 (MaxPooling (None, 3, 32)             0         \n",
      "_________________________________________________________________\n",
      "lstm_10 (LSTM)               (None, 100)               53200     \n",
      "_________________________________________________________________\n",
      "dropout_9 (Dropout)          (None, 100)               0         \n",
      "_________________________________________________________________\n",
      "dense_10 (Dense)             (None, 4)                 404       \n",
      "=================================================================\n",
      "Total params: 772,612\n",
      "Trainable params: 772,612\n",
      "Non-trainable params: 0\n",
      "_________________________________________________________________\n",
      "None\n"
     ]
    }
   ],
   "source": [
    "\n",
    "from keras.models import Sequential\n",
    "from keras.layers import Dense, Embedding, LSTM, CuDNNLSTM\n",
    "from keras.layers import Activation\n",
    "from keras.layers import Dropout,Conv1D,MaxPooling1D\n",
    "\n",
    "# максимальное количество слов для анализа\n",
    "max_features = total_words\n",
    "\n",
    "print(u'Собираем модель...')\n",
    "model = Sequential()\n",
    "embedding_vector_length = 32\n",
    "#Слой для векторного представления слов\n",
    "model.add(Embedding(total_words, embedding_vector_length, input_length=max_words))\n",
    "#одномерная свертка 1 слоя\n",
    "model.add(Conv1D(filters=32, kernel_size=3, padding='same', activation='relu'))\n",
    "#oбъединения для временных данных 1 слоя\n",
    "model.add(MaxPooling1D(pool_size=2))\n",
    "#одномерная свертка 2слоя\n",
    "model.add(Conv1D(filters=32, kernel_size=4, padding='same', activation='relu'))\n",
    "#oбъединения для временных данных 2слоя\n",
    "model.add(MaxPooling1D(pool_size=2))\n",
    "model.add(Conv1D(filters=32, kernel_size=5, padding='same', activation='relu'))\n",
    "model.add(MaxPooling1D(pool_size=2))\n",
    "model.add(Conv1D(filters=32, kernel_size=7, padding='same', activation='relu'))\n",
    "model.add(MaxPooling1D(pool_size=2))\n",
    "model.add(Conv1D(filters=32, kernel_size=9, padding='same', activation='relu'))\n",
    "model.add(MaxPooling1D(pool_size=2))\n",
    "model.add(Conv1D(filters=32, kernel_size=12, padding='same', activation='relu'))\n",
    "model.add(MaxPooling1D(pool_size=2))\n",
    "model.add(Conv1D(filters=32, kernel_size=15, padding='same', activation='relu'))\n",
    "model.add(MaxPooling1D(pool_size=2))\n",
    "model.add(LSTM(100, dropout=0.2, recurrent_dropout=0.3))\n",
    "model.add(keras.layers.Dropout(0.3))\n",
    "model.add(Dense(num_classes, activation='sigmoid'))\n",
    "model.compile(loss='binary_crossentropy', optimizer='adam', metrics=['accuracy'])\n",
    "   \n",
    "print(model.summary())"
   ]
  },
  {
   "cell_type": "code",
   "execution_count": null,
   "metadata": {},
   "outputs": [],
   "source": [
    "#Симуляция текстов, которые не содержать ни одного слова в словаре (не относится ни к одной теме)\n",
    "for j in range(100):\n",
    "    r=random.randint(0, 1474)\n",
    "    X_train[r]=np.zeros(500)\n",
    "    y_train[r]=np.zeros(4)\n",
    "    y_train[r][0]=1"
   ]
  },
  {
   "cell_type": "code",
   "execution_count": 62,
   "metadata": {},
   "outputs": [
    {
     "name": "stdout",
     "output_type": "stream",
     "text": [
      "Тренируем модель...\n",
      "Train on 1474 samples, validate on 300 samples\n",
      "Epoch 1/10\n",
      "1474/1474 [==============================] - 9s 6ms/step - loss: 0.5702 - acc: 0.7427 - val_loss: 0.5021 - val_acc: 0.7500\n",
      "Epoch 2/10\n",
      "1474/1474 [==============================] - 4s 3ms/step - loss: 0.5174 - acc: 0.7498 - val_loss: 0.4727 - val_acc: 0.7575\n",
      "Epoch 3/10\n",
      "1474/1474 [==============================] - 4s 3ms/step - loss: 0.4203 - acc: 0.7916 - val_loss: 0.2896 - val_acc: 0.8258\n",
      "Epoch 4/10\n",
      "1474/1474 [==============================] - 4s 3ms/step - loss: 0.2875 - acc: 0.8474 - val_loss: 0.2395 - val_acc: 0.9117\n",
      "Epoch 5/10\n",
      "1474/1474 [==============================] - 4s 3ms/step - loss: 0.1628 - acc: 0.9459 - val_loss: 0.1573 - val_acc: 0.9500\n",
      "Epoch 6/10\n",
      "1474/1474 [==============================] - 4s 3ms/step - loss: 0.0456 - acc: 0.9929 - val_loss: 0.1688 - val_acc: 0.9467\n",
      "Epoch 7/10\n",
      "1474/1474 [==============================] - 4s 3ms/step - loss: 0.0237 - acc: 0.9959 - val_loss: 0.2245 - val_acc: 0.9367\n",
      "Epoch 8/10\n",
      "1474/1474 [==============================] - 5s 3ms/step - loss: 0.0162 - acc: 0.9973 - val_loss: 0.2350 - val_acc: 0.9333\n",
      "Epoch 9/10\n",
      "1474/1474 [==============================] - 4s 3ms/step - loss: 0.0091 - acc: 0.9992 - val_loss: 0.1797 - val_acc: 0.9608\n",
      "Epoch 10/10\n",
      "1474/1474 [==============================] - 4s 3ms/step - loss: 0.0070 - acc: 0.9995 - val_loss: 0.1854 - val_acc: 0.9617\n"
     ]
    }
   ],
   "source": [
    "import random\n",
    "#Обучение модели\n",
    "batch_size = 32\n",
    "epochs = 10\n",
    "j=0\n",
    "\n",
    "print(u'Тренируем модель...')\n",
    "history = model.fit(X_train, y_train,\n",
    "          batch_size=batch_size,\n",
    "          epochs=epochs,\n",
    "          validation_data=(X_test, y_test))"
   ]
  },
  {
   "cell_type": "code",
   "execution_count": null,
   "metadata": {},
   "outputs": [],
   "source": [
    "#Оценка модели\n",
    "score = model.evaluate(X_test, y_test,\n",
    "                       batch_size=batch_size, verbose=1)\n",
    "print()\n",
    "print(u'Оценка теста: {}'.format(score[0]))\n",
    "print(u'Оценка точности модели: {}'.format(score[1]))"
   ]
  },
  {
   "cell_type": "code",
   "execution_count": 42,
   "metadata": {
    "scrolled": true
   },
   "outputs": [
    {
     "name": "stdout",
     "output_type": "stream",
     "text": [
      "[[0. 0. 1. 0.]\n",
      " [0. 1. 0. 0.]\n",
      " [0. 0. 1. 0.]\n",
      " [0. 1. 0. 0.]\n",
      " [0. 0. 1. 0.]\n",
      " [0. 0. 0. 1.]\n",
      " [0. 0. 0. 1.]\n",
      " [0. 1. 0. 0.]\n",
      " [0. 0. 1. 0.]\n",
      " [0. 0. 0. 1.]]\n",
      "[1 0 1 0 1 2 2 0 1 2]\n",
      "Текст №  1\n",
      "Правильная категория:  2\n",
      "Определенная моделью категория:  2\n",
      "Текст №  2\n",
      "Правильная категория:  1\n",
      "Определенная моделью категория:  2\n",
      "Текст №  3\n",
      "Правильная категория:  2\n",
      "Определенная моделью категория:  2\n",
      "Текст №  4\n",
      "Правильная категория:  1\n",
      "Определенная моделью категория:  1\n",
      "Текст №  5\n",
      "Правильная категория:  2\n",
      "Определенная моделью категория:  2\n",
      "Текст №  6\n",
      "Правильная категория:  3\n",
      "Определенная моделью категория:  0\n",
      "Текст №  7\n",
      "Правильная категория:  3\n",
      "Определенная моделью категория:  3\n",
      "Текст №  8\n",
      "Правильная категория:  1\n",
      "Определенная моделью категория:  1\n",
      "Текст №  9\n",
      "Правильная категория:  2\n",
      "Определенная моделью категория:  2\n",
      "Текст №  10\n",
      "Правильная категория:  3\n",
      "Определенная моделью категория:  1\n"
     ]
    }
   ],
   "source": [
    "#Получение прогноза от модели\n",
    "import numpy as np\n",
    "#Симуляция текста, не относится ни к одной категории (случайно 20 слов)\n",
    "X_t[5]=np.zeros(500)\n",
    "j=0\n",
    "for j in range(20):\n",
    "    r=random.randint(0, maw_words)\n",
    "    X_t[5][r]=random.randint(0, total_words)\n",
    "\n",
    "prediction = model.predict(X_t)\n",
    "\n",
    "j=0\n",
    "for j in range(10):\n",
    "    print(\"Текст № \",j+1)\n",
    "    print('Правильная категория: ',np.argmax(y_t[j]))\n",
    "    print(\"Определенная моделью категория: \",np.argmax(prediction[j]))"
   ]
  },
  {
   "cell_type": "code",
   "execution_count": 58,
   "metadata": {},
   "outputs": [
    {
     "data": {
      "text/plain": [
       "<matplotlib.legend.Legend at 0x3898a3c8>"
      ]
     },
     "execution_count": 58,
     "metadata": {},
     "output_type": "execute_result"
    },
    {
     "data": {
      "image/png": "[encoded data removed]",
      "text/plain": [
       "<matplotlib.figure.Figure at 0x19322128>"
      ]
     },
     "metadata": {},
     "output_type": "display_data"
    }
   ],
   "source": [
    "# Посмотрим на эффективность обучения\n",
    "import matplotlib.pyplot as plt\n",
    "%matplotlib inline\n",
    "plt.style.use(\"ggplot\")\n",
    "plt.figure()\n",
    "N = epochs\n",
    "plt.plot(np.arange(0, N), history.history[\"loss\"], label=\"train_loss\")\n",
    "plt.plot(np.arange(0, N), history.history[\"val_loss\"], label=\"val_loss\")\n",
    "plt.plot(np.arange(0, N), history.history[\"acc\"], label=\"train_acc\")\n",
    "plt.plot(np.arange(0, N), history.history[\"val_acc\"], label=\"val_acc\")\n",
    "plt.title(\"Эффективность обучения\")\n",
    "plt.xlabel(\"Повторения #\")\n",
    "plt.ylabel(\"Ошибки\")\n",
    "plt.legend(loc=\"lower left\")"
   ]
  },
  {
   "cell_type": "code",
   "execution_count": null,
   "metadata": {},
   "outputs": [],
   "source": []
  },
  {
   "cell_type": "code",
   "execution_count": null,
   "metadata": {},
   "outputs": [],
   "source": []
  }
 ],
 "metadata": {
  "kernelspec": {
   "display_name": "Python 3",
   "language": "python",
   "name": "python3"
  },
  "language_info": {
   "codemirror_mode": {
    "name": "ipython",
    "version": 3
   },
   "file_extension": ".py",
   "mimetype": "text/x-python",
   "name": "python",
   "nbconvert_exporter": "python",
   "pygments_lexer": "ipython3",
   "version": "3.8.5"
  }
 },
 "nbformat": 4,
 "nbformat_minor": 2
}
