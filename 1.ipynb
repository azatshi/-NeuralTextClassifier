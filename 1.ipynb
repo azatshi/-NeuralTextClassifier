{
 "cells": [
  {
   "cell_type": "code",
   "execution_count": 1,
   "metadata": {},
   "outputs": [],
   "source": [
    "#Загрузка даных:\n",
    "from sklearn.datasets import fetch_20newsgroups\n",
    "categories = [\"comp.graphics\",\"sci.space\",\"rec.sport.baseball\"]\n",
    "df = fetch_20newsgroups(subset='train', categories=categories)\n",
    "df1 = fetch_20newsgroups(subset='test', categories=categories)"
   ]
  },
  {
   "cell_type": "code",
   "execution_count": 2,
   "metadata": {},
   "outputs": [],
   "source": [
    "#Функция чистки текста:\n",
    "import pymorphy2\n",
    "import re\n",
    "\n",
    "def clean_text(text):\n",
    "    morph = pymorphy2.MorphAnalyzer()\n",
    "    text = text.replace(\"\\\\\", \" \").replace(u\"╚\", \" \").replace(u\"╩\", \" \")\n",
    "    text = text.lower()\n",
    "    text = re.sub('\\-\\s\\r\\n\\s{1,}|\\-\\s\\r\\n|\\r\\n', '', text) #deleting newlines and line-breaks\n",
    "    text = re.sub('[.,:;_%©?*,!@#$%^&()\\d]|[+=]|[[]|[]]|[/]|\"|\\s{2,}|-', ' ', text) #deleting symbols  \n",
    "    text = ' '.join(word for word in text.split() if len(word)>3)\n",
    "    text = \" \".join(morph.parse(word)[0].normal_form for word in text.split())\n",
    "    \n",
    "    return text"
   ]
  },
  {
   "cell_type": "code",
   "execution_count": 3,
   "metadata": {},
   "outputs": [
    {
     "name": "stderr",
     "output_type": "stream",
     "text": [
      "<ipython-input-2-2dfb3ff5ef30>:10: FutureWarning: Possible nested set at position 30\n",
      "  text = re.sub('[.,:;_%©?*,!@#$%^&()\\d]|[+=]|[[]|[]]|[/]|\"|\\s{2,}|-', ' ', text) #deleting symbols\n"
     ]
    },
    {
     "name": "stdout",
     "output_type": "stream",
     "text": [
      "Максимальное количество слов в самом длинном описании заявки: 500 слов\n"
     ]
    }
   ],
   "source": [
    "#Чистка текста и нахождение макс длины текста(или обрезание):\n",
    "k=0\n",
    "m=0\n",
    "# Максимальное количество слов в самом длинном описании заявки\n",
    "max_words = 0\n",
    "for text in df.data:\n",
    "    text=clean_text(text)\n",
    "    df.data[k]=text\n",
    "    words = len(text.split())\n",
    "    if words > 500:\n",
    "        df.data[k]=text[:500]\n",
    "        words=500\n",
    "        m=k\n",
    "    if words > max_words:\n",
    "        max_words = words\n",
    "    k+=1\n",
    "\n",
    "print('Максимальное количество слов в самом длинном описании заявки: {} слов'.format(max_words))"
   ]
  },
  {
   "cell_type": "code",
   "execution_count": 4,
   "metadata": {},
   "outputs": [
    {
     "name": "stdout",
     "output_type": "stream",
     "text": [
      "Всего слов в словаре:  20702\n",
      "Распределение по рубликам:  [584. 597. 593.]\n"
     ]
    }
   ],
   "source": [
    "#Составление словаря\n",
    "import pandas as pd\n",
    "import numpy as np\n",
    "\n",
    "from collections import Counter\n",
    "vocab = Counter()\n",
    "for text in df.data:\n",
    "    for word in text.split(' '):\n",
    "        vocab[word.lower()]=1\n",
    "        \n",
    "total_words = len(vocab)\n",
    "print('Всего слов в словаре: ', total_words)\n",
    "\n",
    "#Функция, которая возвращает индекс слова в словаре\n",
    "def get_word_2_index(vocab):\n",
    "    word2index = {}\n",
    "    for i,word in enumerate(vocab):\n",
    "        word2index[word.lower()] = i\n",
    "        \n",
    "    return word2index\n",
    "\n",
    "word2index = get_word_2_index(vocab)\n",
    "\n",
    "#Составление числовых векторов\n",
    "batches = []\n",
    "results = []\n",
    "texts = df.data\n",
    "categories = df.target\n",
    "\n",
    "for text in texts:\n",
    "    k=0\n",
    "    layer = np.zeros(max_words,dtype=float)\n",
    "    for word in text.split(' '):\n",
    "        if (vocab[word.lower()])!=0:\n",
    "            layer[k] = word2index[word.lower()]\n",
    "            k+=1\n",
    "            \n",
    "    batches.append(layer)\n",
    "X_train=np.array(batches)\n",
    "\n",
    "#print(X_train[0],X_train.shape)\n",
    "\n",
    "y=0\n",
    "num_classes=3\n",
    "target=np.zeros((num_classes))\n",
    "y_train=np.zeros((len(df.target),num_classes))\n",
    "for у in range(len(df.target)):\n",
    "    #print(y,'= ',df.target[y])\n",
    "    \n",
    "    y_train[y,df.target[y]]=1\n",
    "    target[df.target[y]]+=1\n",
    "    #print(y,'= ',y_train[y])\n",
    "    y+=1    \n",
    "\n",
    "print('Распределение по рубликам: ',target)\n",
    "\n",
    "\n",
    "#print(y_train[0],y_train.shape)\n"
   ]
  },
  {
   "cell_type": "code",
   "execution_count": 5,
   "metadata": {},
   "outputs": [
    {
     "name": "stdout",
     "output_type": "stream",
     "text": [
      "Размерность обучающей выборки:  (1474, 500)\n",
      "Размерность тестовой выборки:  (300, 500)\n"
     ]
    }
   ],
   "source": [
    "#Разбиение на обучающую и тестовую выборку\n",
    "n=300\n",
    "l=len(df.target)\n",
    "X_test=X_train[l-n:l+1] \n",
    "y_test=y_train[l-n:l+1]\n",
    "y_train=y_train[0:l-n]\n",
    "X_train=X_train[0:l-n]\n",
    "print('Размерность обучающей выборки: ',X_train.shape)\n",
    "print('Размерность тестовой выборки: ',X_test.shape)"
   ]
  },
  {
   "cell_type": "code",
   "execution_count": 13,
   "metadata": {},
   "outputs": [
    {
     "name": "stdout",
     "output_type": "stream",
     "text": [
      "Собираем модель...\n",
      "Model: \"sequential_2\"\n",
      "_________________________________________________________________\n",
      "Layer (type)                 Output Shape              Param #   \n",
      "=================================================================\n",
      "embedding_1 (Embedding)      (None, 500, 32)           662464    \n",
      "_________________________________________________________________\n",
      "lstm_1 (LSTM)                (None, 100)               53200     \n",
      "_________________________________________________________________\n",
      "dense_3 (Dense)              (None, 3)                 303       \n",
      "=================================================================\n",
      "Total params: 715,967\n",
      "Trainable params: 715,967\n",
      "Non-trainable params: 0\n",
      "_________________________________________________________________\n",
      "None\n"
     ]
    }
   ],
   "source": [
    "from keras.models import Sequential\n",
    "from keras.layers import Dense, Embedding, LSTM\n",
    "from keras.layers import Activation\n",
    "from keras.layers import Dropout\n",
    "\n",
    "#Реккурентная модель\n",
    "# максимальное количество слов для анализа\n",
    "max_features = total_words\n",
    "embedding_vector_length = 32\n",
    "print(u'Собираем модель...')\n",
    "model = Sequential()\n",
    "#Слой для векторного представления слов\n",
    "model.add(Embedding(total_words, embedding_vector_length, input_length=max_words))\n",
    "#Слой долгосрочной памяти\n",
    "model.add(LSTM(100, dropout=0.2, recurrent_dropout=0.2))\n",
    "#Полносвязный слой для классификации\n",
    "model.add(Dense(num_classes, activation='sigmoid'))\n",
    "\n",
    "model.compile(loss='binary_crossentropy',\n",
    "              optimizer='adam',\n",
    "              metrics=['accuracy'])\n",
    "\n",
    "print (model.summary())"
   ]
  },
  {
   "cell_type": "code",
   "execution_count": 22,
   "metadata": {},
   "outputs": [
    {
     "name": "stdout",
     "output_type": "stream",
     "text": [
      "Собираем модель...\n",
      "WARNING:tensorflow:From C:\\Users\\Azat\\Anaconda3\\lib\\site-packages\\tensorflow\\python\\util\\deprecation.py:497: calling conv1d (from tensorflow.python.ops.nn_ops) with data_format=NHWC is deprecated and will be removed in a future version.\n",
      "Instructions for updating:\n",
      "`NHWC` for data_format is deprecated, use `NWC` instead\n",
      "_________________________________________________________________\n",
      "Layer (type)                 Output Shape              Param #   \n",
      "=================================================================\n",
      "embedding_2 (Embedding)      (None, 500, 32)           662464    \n",
      "_________________________________________________________________\n",
      "conv1d_1 (Conv1D)            (None, 500, 32)           3104      \n",
      "_________________________________________________________________\n",
      "max_pooling1d_1 (MaxPooling1 (None, 250, 32)           0         \n",
      "_________________________________________________________________\n",
      "conv1d_2 (Conv1D)            (None, 250, 32)           4128      \n",
      "_________________________________________________________________\n",
      "max_pooling1d_2 (MaxPooling1 (None, 125, 32)           0         \n",
      "_________________________________________________________________\n",
      "conv1d_3 (Conv1D)            (None, 125, 32)           5152      \n",
      "_________________________________________________________________\n",
      "max_pooling1d_3 (MaxPooling1 (None, 62, 32)            0         \n",
      "_________________________________________________________________\n",
      "conv1d_4 (Conv1D)            (None, 62, 32)            7200      \n",
      "_________________________________________________________________\n",
      "max_pooling1d_4 (MaxPooling1 (None, 31, 32)            0         \n",
      "_________________________________________________________________\n",
      "conv1d_5 (Conv1D)            (None, 31, 32)            9248      \n",
      "_________________________________________________________________\n",
      "max_pooling1d_5 (MaxPooling1 (None, 15, 32)            0         \n",
      "_________________________________________________________________\n",
      "conv1d_6 (Conv1D)            (None, 15, 32)            12320     \n",
      "_________________________________________________________________\n",
      "max_pooling1d_6 (MaxPooling1 (None, 7, 32)             0         \n",
      "_________________________________________________________________\n",
      "conv1d_7 (Conv1D)            (None, 7, 32)             15392     \n",
      "_________________________________________________________________\n",
      "max_pooling1d_7 (MaxPooling1 (None, 3, 32)             0         \n",
      "_________________________________________________________________\n",
      "lstm_2 (LSTM)                (None, 100)               53200     \n",
      "_________________________________________________________________\n",
      "dropout_1 (Dropout)          (None, 100)               0         \n",
      "_________________________________________________________________\n",
      "dense_2 (Dense)              (None, 4)                 404       \n",
      "=================================================================\n",
      "Total params: 772,612\n",
      "Trainable params: 772,612\n",
      "Non-trainable params: 0\n",
      "_________________________________________________________________\n",
      "None\n"
     ]
    }
   ],
   "source": [
    "import keras\n",
    "from keras.models import Sequential\n",
    "from keras.layers import Dense, Embedding, LSTM\n",
    "from keras.layers import Activation\n",
    "from keras.layers import Dropout,Conv1D,MaxPooling1D\n",
    "\n",
    "# максимальное количество слов для анализа\n",
    "max_features = total_words\n",
    "\n",
    "print(u'Собираем модель...')\n",
    "model = Sequential()\n",
    "embedding_vector_length = 32\n",
    "#Слой для векторного представления слов\n",
    "model.add(Embedding(total_words, embedding_vector_length, input_length=max_words))\n",
    "#одномерная свертка 1 слоя\n",
    "model.add(Conv1D(filters=32, kernel_size=3, padding='same', activation='relu'))\n",
    "#oбъединения для временных данных 1 слоя\n",
    "model.add(MaxPooling1D(pool_size=2))\n",
    "#одномерная свертка 2слоя\n",
    "model.add(Conv1D(filters=32, kernel_size=4, padding='same', activation='relu'))\n",
    "#oбъединения для временных данных 2слоя\n",
    "model.add(MaxPooling1D(pool_size=2))\n",
    "model.add(Conv1D(filters=32, kernel_size=5, padding='same', activation='relu'))\n",
    "model.add(MaxPooling1D(pool_size=2))\n",
    "model.add(Conv1D(filters=32, kernel_size=7, padding='same', activation='relu'))\n",
    "model.add(MaxPooling1D(pool_size=2))\n",
    "model.add(Conv1D(filters=32, kernel_size=9, padding='same', activation='relu'))\n",
    "model.add(MaxPooling1D(pool_size=2))\n",
    "model.add(Conv1D(filters=32, kernel_size=12, padding='same', activation='relu'))\n",
    "model.add(MaxPooling1D(pool_size=2))\n",
    "model.add(Conv1D(filters=32, kernel_size=15, padding='same', activation='relu'))\n",
    "model.add(MaxPooling1D(pool_size=2))\n",
    "model.add(LSTM(100, dropout=0.2, recurrent_dropout=0.3))\n",
    "model.add(keras.layers.Dropout(0.3))\n",
    "model.add(Dense(num_classes, activation='sigmoid'))\n",
    "model.compile(loss='binary_crossentropy', optimizer='adam', metrics=['accuracy'])\n",
    "   \n",
    "print(model.summary())"
   ]
  },
  {
   "cell_type": "code",
   "execution_count": 9,
   "metadata": {},
   "outputs": [
    {
     "name": "stdout",
     "output_type": "stream",
     "text": [
      "Собираем модель...\n",
      "Model: \"sequential_1\"\n",
      "_________________________________________________________________\n",
      "Layer (type)                 Output Shape              Param #   \n",
      "=================================================================\n",
      "dense_1 (Dense)              (None, 500)               250500    \n",
      "_________________________________________________________________\n",
      "dropout (Dropout)            (None, 500)               0         \n",
      "_________________________________________________________________\n",
      "dense_2 (Dense)              (None, 3)                 1503      \n",
      "=================================================================\n",
      "Total params: 252,003\n",
      "Trainable params: 252,003\n",
      "Non-trainable params: 0\n",
      "_________________________________________________________________\n",
      "None\n"
     ]
    }
   ],
   "source": [
    "#Многослойный перcептрон\n",
    "epochs = 10\n",
    "\n",
    "print(u'Собираем модель...')\n",
    "model = Sequential()\n",
    "#Полносвязный слой для классификации\n",
    "model.add(Dense(500, input_shape=(max_words,),activation='sigmoid'))\n",
    "# Слой регуляризации Dropout\n",
    "model.add(Dropout(0.2))\n",
    "#Полносвязный слой для классификации\n",
    "model.add(Dense(num_classes, activation='sigmoid'))\n",
    "\n",
    "model.compile(loss='binary_crossentropy',\n",
    "              optimizer='adam',\n",
    "              metrics=['accuracy'])\n",
    "\n",
    "print(model.summary())"
   ]
  },
  {
   "cell_type": "code",
   "execution_count": null,
   "metadata": {},
   "outputs": [
    {
     "name": "stdout",
     "output_type": "stream",
     "text": [
      "Тренируем модель...\n",
      "Epoch 1/10\n",
      "47/47 [==============================] - 48s 919ms/step - loss: 0.6625 - accuracy: 0.3531 - val_loss: 0.6394 - val_accuracy: 0.3133\n",
      "Epoch 2/10\n",
      "47/47 [==============================] - 48s 1s/step - loss: 0.6383 - accuracy: 0.3375 - val_loss: 0.6389 - val_accuracy: 0.3133\n",
      "Epoch 3/10\n",
      "47/47 [==============================] - 47s 990ms/step - loss: 0.6373 - accuracy: 0.3229 - val_loss: 0.6365 - val_accuracy: 0.3567\n",
      "Epoch 4/10\n",
      "34/47 [====================>.........] - ETA: 11s - loss: 0.6355 - accuracy: 0.3710"
     ]
    }
   ],
   "source": [
    "#Обучение модели\n",
    "batch_size = 32\n",
    "epochs = 10\n",
    "\n",
    "print(u'Тренируем модель...')\n",
    "history = model.fit(X_train, y_train,\n",
    "          batch_size=batch_size,\n",
    "          epochs=epochs,\n",
    "          validation_data=(X_test, y_test))"
   ]
  },
  {
   "cell_type": "code",
   "execution_count": 11,
   "metadata": {},
   "outputs": [
    {
     "name": "stdout",
     "output_type": "stream",
     "text": [
      "10/10 [==============================] - 0s 3ms/step - loss: 0.6341 - accuracy: 0.4267\n",
      "\n",
      "Оценка теста: 0.6340540647506714\n",
      "Оценка точности модели: 0.4266666769981384\n"
     ]
    }
   ],
   "source": [
    "#Оценка модели\n",
    "score = model.evaluate(X_test, y_test,\n",
    "                       batch_size=batch_size, verbose=1)\n",
    "print()\n",
    "print(u'Оценка теста: {}'.format(score[0]))\n",
    "print(u'Оценка точности модели: {}'.format(score[1]))"
   ]
  },
  {
   "cell_type": "code",
   "execution_count": 24,
   "metadata": {
    "scrolled": true
   },
   "outputs": [
    {
     "name": "stdout",
     "output_type": "stream",
     "text": [
      "[[0. 0. 1. 0.]\n",
      " [0. 1. 0. 0.]\n",
      " [0. 0. 1. 0.]\n",
      " [0. 1. 0. 0.]\n",
      " [0. 0. 1. 0.]\n",
      " [0. 0. 0. 1.]\n",
      " [0. 0. 0. 1.]\n",
      " [0. 1. 0. 0.]\n",
      " [0. 0. 1. 0.]\n",
      " [0. 0. 0. 1.]]\n",
      "Текст №  1\n",
      "Правильная категория:  2\n",
      "Определенная моделью категория:  2\n",
      "Текст №  2\n",
      "Правильная категория:  1\n",
      "Определенная моделью категория:  2\n",
      "Текст №  3\n",
      "Правильная категория:  2\n",
      "Определенная моделью категория:  2\n",
      "Текст №  4\n",
      "Правильная категория:  1\n",
      "Определенная моделью категория:  2\n",
      "Текст №  5\n",
      "Правильная категория:  2\n",
      "Определенная моделью категория:  2\n",
      "Текст №  6\n",
      "Правильная категория:  3\n",
      "Определенная моделью категория:  2\n",
      "Текст №  7\n",
      "Правильная категория:  3\n",
      "Определенная моделью категория:  2\n",
      "Текст №  8\n",
      "Правильная категория:  1\n",
      "Определенная моделью категория:  2\n",
      "Текст №  9\n",
      "Правильная категория:  2\n",
      "Определенная моделью категория:  2\n",
      "Текст №  10\n",
      "Правильная категория:  3\n",
      "Определенная моделью категория:  2\n"
     ]
    }
   ],
   "source": [
    "#Получение прогноза от модели\n",
    "import numpy as np\n",
    "X_t[3]=np.zeros(500)\n",
    "print(y_t)\n",
    "prediction = model.predict(X_t)\n",
    "\n",
    "\n",
    "j=0\n",
    "for j in range(10):\n",
    "    print(\"Текст № \",j+1)\n",
    "    print('Правильная категория: ',np.argmax(y_t[j]))\n",
    "    print(\"Определенная моделью категория: \",np.argmax(prediction[j]))"
   ]
  },
  {
   "cell_type": "code",
   "execution_count": 12,
   "metadata": {},
   "outputs": [
    {
     "ename": "KeyError",
     "evalue": "'acc'",
     "output_type": "error",
     "traceback": [
      "\u001b[1;31m---------------------------------------------------------------------------\u001b[0m",
      "\u001b[1;31mKeyError\u001b[0m                                  Traceback (most recent call last)",
      "\u001b[1;32m<ipython-input-12-0b865f7308f3>\u001b[0m in \u001b[0;36m<module>\u001b[1;34m\u001b[0m\n\u001b[0;32m      7\u001b[0m \u001b[0mplt\u001b[0m\u001b[1;33m.\u001b[0m\u001b[0mplot\u001b[0m\u001b[1;33m(\u001b[0m\u001b[0mnp\u001b[0m\u001b[1;33m.\u001b[0m\u001b[0marange\u001b[0m\u001b[1;33m(\u001b[0m\u001b[1;36m0\u001b[0m\u001b[1;33m,\u001b[0m \u001b[0mN\u001b[0m\u001b[1;33m)\u001b[0m\u001b[1;33m,\u001b[0m \u001b[0mhistory\u001b[0m\u001b[1;33m.\u001b[0m\u001b[0mhistory\u001b[0m\u001b[1;33m[\u001b[0m\u001b[1;34m\"loss\"\u001b[0m\u001b[1;33m]\u001b[0m\u001b[1;33m,\u001b[0m \u001b[0mlabel\u001b[0m\u001b[1;33m=\u001b[0m\u001b[1;34m\"train_loss\"\u001b[0m\u001b[1;33m)\u001b[0m\u001b[1;33m\u001b[0m\u001b[1;33m\u001b[0m\u001b[0m\n\u001b[0;32m      8\u001b[0m \u001b[0mplt\u001b[0m\u001b[1;33m.\u001b[0m\u001b[0mplot\u001b[0m\u001b[1;33m(\u001b[0m\u001b[0mnp\u001b[0m\u001b[1;33m.\u001b[0m\u001b[0marange\u001b[0m\u001b[1;33m(\u001b[0m\u001b[1;36m0\u001b[0m\u001b[1;33m,\u001b[0m \u001b[0mN\u001b[0m\u001b[1;33m)\u001b[0m\u001b[1;33m,\u001b[0m \u001b[0mhistory\u001b[0m\u001b[1;33m.\u001b[0m\u001b[0mhistory\u001b[0m\u001b[1;33m[\u001b[0m\u001b[1;34m\"val_loss\"\u001b[0m\u001b[1;33m]\u001b[0m\u001b[1;33m,\u001b[0m \u001b[0mlabel\u001b[0m\u001b[1;33m=\u001b[0m\u001b[1;34m\"val_loss\"\u001b[0m\u001b[1;33m)\u001b[0m\u001b[1;33m\u001b[0m\u001b[1;33m\u001b[0m\u001b[0m\n\u001b[1;32m----> 9\u001b[1;33m \u001b[0mplt\u001b[0m\u001b[1;33m.\u001b[0m\u001b[0mplot\u001b[0m\u001b[1;33m(\u001b[0m\u001b[0mnp\u001b[0m\u001b[1;33m.\u001b[0m\u001b[0marange\u001b[0m\u001b[1;33m(\u001b[0m\u001b[1;36m0\u001b[0m\u001b[1;33m,\u001b[0m \u001b[0mN\u001b[0m\u001b[1;33m)\u001b[0m\u001b[1;33m,\u001b[0m \u001b[0mhistory\u001b[0m\u001b[1;33m.\u001b[0m\u001b[0mhistory\u001b[0m\u001b[1;33m[\u001b[0m\u001b[1;34m\"acc\"\u001b[0m\u001b[1;33m]\u001b[0m\u001b[1;33m,\u001b[0m \u001b[0mlabel\u001b[0m\u001b[1;33m=\u001b[0m\u001b[1;34m\"train_acc\"\u001b[0m\u001b[1;33m)\u001b[0m\u001b[1;33m\u001b[0m\u001b[1;33m\u001b[0m\u001b[0m\n\u001b[0m\u001b[0;32m     10\u001b[0m \u001b[0mplt\u001b[0m\u001b[1;33m.\u001b[0m\u001b[0mplot\u001b[0m\u001b[1;33m(\u001b[0m\u001b[0mnp\u001b[0m\u001b[1;33m.\u001b[0m\u001b[0marange\u001b[0m\u001b[1;33m(\u001b[0m\u001b[1;36m0\u001b[0m\u001b[1;33m,\u001b[0m \u001b[0mN\u001b[0m\u001b[1;33m)\u001b[0m\u001b[1;33m,\u001b[0m \u001b[0mhistory\u001b[0m\u001b[1;33m.\u001b[0m\u001b[0mhistory\u001b[0m\u001b[1;33m[\u001b[0m\u001b[1;34m\"val_acc\"\u001b[0m\u001b[1;33m]\u001b[0m\u001b[1;33m,\u001b[0m \u001b[0mlabel\u001b[0m\u001b[1;33m=\u001b[0m\u001b[1;34m\"val_acc\"\u001b[0m\u001b[1;33m)\u001b[0m\u001b[1;33m\u001b[0m\u001b[1;33m\u001b[0m\u001b[0m\n\u001b[0;32m     11\u001b[0m \u001b[0mplt\u001b[0m\u001b[1;33m.\u001b[0m\u001b[0mtitle\u001b[0m\u001b[1;33m(\u001b[0m\u001b[1;34m\"Эффективность обучения\"\u001b[0m\u001b[1;33m)\u001b[0m\u001b[1;33m\u001b[0m\u001b[1;33m\u001b[0m\u001b[0m\n",
      "\u001b[1;31mKeyError\u001b[0m: 'acc'"
     ]
    },
    {
     "data": {
      "image/png": "[encoded data removed]",
      "text/plain": [
       "<Figure size 432x288 with 1 Axes>"
      ]
     },
     "metadata": {},
     "output_type": "display_data"
    }
   ],
   "source": [
    "# Посмотрим на эффективность обучения\n",
    "import matplotlib.pyplot as plt\n",
    "%matplotlib inline\n",
    "plt.style.use(\"ggplot\")\n",
    "plt.figure()\n",
    "N = epochs\n",
    "plt.plot(np.arange(0, N), history.history[\"loss\"], label=\"train_loss\")\n",
    "plt.plot(np.arange(0, N), history.history[\"val_loss\"], label=\"val_loss\")\n",
    "plt.plot(np.arange(0, N), history.history[\"acc\"], label=\"train_acc\")\n",
    "plt.plot(np.arange(0, N), history.history[\"val_acc\"], label=\"val_acc\")\n",
    "plt.title(\"Эффективность обучения\")\n",
    "plt.xlabel(\"Повторения #\")\n",
    "plt.ylabel(\"Ошибки\")\n",
    "plt.legend(loc=\"lower left\")"
   ]
  },
  {
   "cell_type": "code",
   "execution_count": null,
   "metadata": {},
   "outputs": [],
   "source": []
  },
  {
   "cell_type": "code",
   "execution_count": null,
   "metadata": {},
   "outputs": [],
   "source": []
  }
 ],
 "metadata": {
  "kernelspec": {
   "display_name": "Python 3",
   "language": "python",
   "name": "python3"
  },
  "language_info": {
   "codemirror_mode": {
    "name": "ipython",
    "version": 3
   },
   "file_extension": ".py",
   "mimetype": "text/x-python",
   "name": "python",
   "nbconvert_exporter": "python",
   "pygments_lexer": "ipython3",
   "version": "3.8.5"
  }
 },
 "nbformat": 4,
 "nbformat_minor": 2
}
